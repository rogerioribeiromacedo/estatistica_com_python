{
 "cells": [
  {
   "cell_type": "markdown",
   "id": "05716def",
   "metadata": {},
   "source": [
    "<h1 style=\"color: #7BB598; text-align: center;\"><span style=\"color: #7BB598;\">Canabinoides</span></h1>\n",
    "<p style=\"text-align: center;\">Coleta e an&aacute;lise dos canabinoides que atuam sobre os receptores CBD1 e CBD2</p>\n",
    "<p style=\"text-align: justify;\"></p>\n",
    "<p style=\"text-align: justify;\"></p>"
   ]
  },
  {
   "cell_type": "markdown",
   "id": "9778a3f7",
   "metadata": {},
   "source": [
    "<h1 style=\"color: #5e9ca0; text-align: left;\"><span style=\"color: #7BB598;\">1. Importando bibliotecas</span></h1>"
   ]
  },
  {
   "cell_type": "code",
   "execution_count": 56,
   "id": "a1a6f4c2",
   "metadata": {},
   "outputs": [],
   "source": [
    "import pandas as pd\n",
    "import matplotlib.pyplot as plt\n",
    "import numpy as np\n",
    "import seaborn as sns\n",
    "\n",
    "import os.path\n",
    "\n",
    "# Estatística\n",
    "from scipy import stats\n",
    "from scipy.stats import binom\n",
    "\n",
    "# Descritores\n",
    "from rdkit import Chem\n",
    "from rdkit.Chem import Descriptors, Lipinski\n",
    "\n",
    "# Acessar base de dados ChemBL\n",
    "from chembl_webresource_client.new_client import new_client\n",
    "\n",
    "# Configurando exibição de dados Pandas DataFrame\n",
    "# Setando max_columns para None, indicando que será exibido todas as colunas\n",
    "pd.set_option('display.max_columns', None)"
   ]
  },
  {
   "cell_type": "markdown",
   "id": "5a8deb4e",
   "metadata": {},
   "source": [
    "<h1 style=\"color: #7BB598; text-align: left;\"><span style=\"color: #7BB598;\">2. Dados</span></h1>"
   ]
  },
  {
   "cell_type": "markdown",
   "id": "78097300",
   "metadata": {},
   "source": [
    "<h2 style=\"color: #7BB598; text-align: left;\"><span style=\"color: #7BB598;\"><strong>2.1. Alvos (targets)</strong></span></h2>\n",
    "<br><p style=\"text-align: justify;\">Listando especificamente as prote&iacute;nas da esp&eacute;cie <em>Homo sapiens</em> que s&atilde;o alvos de canabinoides (especificando, proteínas simples) . No caso, o retorno ser&aacute;:</p>\n",
    "<ul>\n",
    "<li style=\"text-align: justify;\">Receptor canabinoide CB1: localizado principalmente no c&eacute;rebro, em &aacute;reas como hipocampo, hipot&aacute;lamo, vias demarmin&eacute;gicas e na subst&acirc;ncia negra.</li>\n",
    "<li style=\"text-align: justify;\">Recpetor canabinoide CB2: localizado no ba&ccedil;o, tonsilas, medula &oacute;ssea e c&eacute;lulas do sangue.</li>\n",
    "</ul>"
   ]
  },
  {
   "cell_type": "code",
   "execution_count": 57,
   "id": "c191016a",
   "metadata": {},
   "outputs": [
    {
     "data": {
      "text/html": [
       "<div>\n",
       "<style scoped>\n",
       "    .dataframe tbody tr th:only-of-type {\n",
       "        vertical-align: middle;\n",
       "    }\n",
       "\n",
       "    .dataframe tbody tr th {\n",
       "        vertical-align: top;\n",
       "    }\n",
       "\n",
       "    .dataframe thead th {\n",
       "        text-align: right;\n",
       "    }\n",
       "</style>\n",
       "<table border=\"1\" class=\"dataframe\">\n",
       "  <thead>\n",
       "    <tr style=\"text-align: right;\">\n",
       "      <th></th>\n",
       "      <th>cross_references</th>\n",
       "      <th>organism</th>\n",
       "      <th>pref_name</th>\n",
       "      <th>score</th>\n",
       "      <th>species_group_flag</th>\n",
       "      <th>target_chembl_id</th>\n",
       "      <th>target_components</th>\n",
       "      <th>target_type</th>\n",
       "      <th>tax_id</th>\n",
       "    </tr>\n",
       "  </thead>\n",
       "  <tbody>\n",
       "    <tr>\n",
       "      <th>0</th>\n",
       "      <td>[{'xref_id': 'P21554', 'xref_name': None, 'xre...</td>\n",
       "      <td>Homo sapiens</td>\n",
       "      <td>Cannabinoid CB1 receptor</td>\n",
       "      <td>15.0</td>\n",
       "      <td>False</td>\n",
       "      <td>CHEMBL218</td>\n",
       "      <td>[{'accession': 'P21554', 'component_descriptio...</td>\n",
       "      <td>SINGLE PROTEIN</td>\n",
       "      <td>9606</td>\n",
       "    </tr>\n",
       "    <tr>\n",
       "      <th>1</th>\n",
       "      <td>[{'xref_id': 'P34972', 'xref_name': None, 'xre...</td>\n",
       "      <td>Homo sapiens</td>\n",
       "      <td>Cannabinoid CB2 receptor</td>\n",
       "      <td>14.0</td>\n",
       "      <td>False</td>\n",
       "      <td>CHEMBL253</td>\n",
       "      <td>[{'accession': 'P34972', 'component_descriptio...</td>\n",
       "      <td>SINGLE PROTEIN</td>\n",
       "      <td>9606</td>\n",
       "    </tr>\n",
       "  </tbody>\n",
       "</table>\n",
       "</div>"
      ],
      "text/plain": [
       "                                    cross_references      organism  \\\n",
       "0  [{'xref_id': 'P21554', 'xref_name': None, 'xre...  Homo sapiens   \n",
       "1  [{'xref_id': 'P34972', 'xref_name': None, 'xre...  Homo sapiens   \n",
       "\n",
       "                  pref_name  score  species_group_flag target_chembl_id  \\\n",
       "0  Cannabinoid CB1 receptor   15.0               False        CHEMBL218   \n",
       "1  Cannabinoid CB2 receptor   14.0               False        CHEMBL253   \n",
       "\n",
       "                                   target_components     target_type  tax_id  \n",
       "0  [{'accession': 'P21554', 'component_descriptio...  SINGLE PROTEIN    9606  \n",
       "1  [{'accession': 'P34972', 'component_descriptio...  SINGLE PROTEIN    9606  "
      ]
     },
     "execution_count": 57,
     "metadata": {},
     "output_type": "execute_result"
    }
   ],
   "source": [
    "# Buscando alvos\n",
    "alvo = new_client.target\n",
    "consulta_alvo = alvo.search('cannabinoid').filter(organism = 'Homo sapiens').filter(target_type = 'SINGLE PROTEIN')\n",
    "df_alvos = pd.DataFrame.from_dict(consulta_alvo)\n",
    "df_alvos"
   ]
  },
  {
   "cell_type": "markdown",
   "id": "1990616b",
   "metadata": {},
   "source": [
    "<h2 style=\"color: #7BB598; text-align: left;\"><span style=\"color: #7BB598;\"><strong>2.1. Moléculas ('activities')</strong></span></h2>\n",
    "<p>&nbsp;</p>\n",
    "<p style=\"text-align: justify;\">Agora, vamos buscar as mol&eacute;culas que tem atividade sobre as prote&iacute;nas CB1 e CB2 do tipo IC50 (compostos que apresentam valores que conseguem inibir at&eacute; 50% da atividade biol&oacute;gica.).&nbsp;</p>"
   ]
  },
  {
   "cell_type": "code",
   "execution_count": 58,
   "id": "0d0b0237",
   "metadata": {},
   "outputs": [],
   "source": [
    "existe = os.path.isfile('atividades.csv')\n",
    "if existe:\n",
    "    df_atividades = pd.read_csv('atividades.csv')\n",
    "else:\n",
    "    atividade = new_client.activity\n",
    "    resultado = atividade.filter(target_chembl_id__in\t= ['CHEMBL218', 'CHEMBL253']).filter(standard_type='IC50')\n",
    "    df_atividades = pd.DataFrame.from_dict(resultado)\n",
    "    \n",
    "    # Salvando atividades\n",
    "    df_atividades.to_csv('atividades.csv', index=False, float_format='%.6f', encoding='utf-8')"
   ]
  },
  {
   "cell_type": "markdown",
   "id": "a272c367",
   "metadata": {},
   "source": [
    "<h2 style=\"color: #7BB598; text-align: left;\"><span style=\"color: #7BB598;\"><strong>2.2. Standard_value diferente de NaN</strong></span></h2>\n",
    "<p>&nbsp;</p>"
   ]
  },
  {
   "cell_type": "code",
   "execution_count": 59,
   "id": "4902b1bb",
   "metadata": {},
   "outputs": [],
   "source": [
    "df_atividades2 = df_atividades[df_atividades.standard_value.notna()]"
   ]
  },
  {
   "cell_type": "markdown",
   "id": "c58b8347",
   "metadata": {},
   "source": [
    "<h2 style=\"color: #7BB598; text-align: left;\"><span style=\"color: #7BB598;\"><strong>2.3. Convertendo tipo da coluna standard_value</strong></span></h2>\n",
    "<p>&nbsp;</p>"
   ]
  },
  {
   "cell_type": "code",
   "execution_count": 60,
   "id": "e6ea3c0e",
   "metadata": {},
   "outputs": [],
   "source": [
    "# converte a coluna \"standard_value\" para o tipo float\n",
    "df_atividades2 = df_atividades2.astype({\"standard_value\": float})"
   ]
  },
  {
   "cell_type": "markdown",
   "id": "872ddfed",
   "metadata": {},
   "source": [
    "<h2 style=\"color: #7BB598; text-align: left;\"><span style=\"color: #7BB598;\"><strong>2.4. Gerando dados de trabalho</strong></span></h2>\n",
    "<p>&nbsp;</p>"
   ]
  },
  {
   "cell_type": "code",
   "execution_count": 61,
   "id": "fe052d6a",
   "metadata": {},
   "outputs": [],
   "source": [
    "# agrupando dados\n",
    "df_trabalho = df_atividades2.groupby(['molecule_chembl_id', \n",
    "                                      'canonical_smiles'])['standard_value'].max().reset_index(name = 'standard_value')"
   ]
  },
  {
   "cell_type": "code",
   "execution_count": 62,
   "id": "1061ee2b",
   "metadata": {},
   "outputs": [
    {
     "data": {
      "text/html": [
       "<div>\n",
       "<style scoped>\n",
       "    .dataframe tbody tr th:only-of-type {\n",
       "        vertical-align: middle;\n",
       "    }\n",
       "\n",
       "    .dataframe tbody tr th {\n",
       "        vertical-align: top;\n",
       "    }\n",
       "\n",
       "    .dataframe thead th {\n",
       "        text-align: right;\n",
       "    }\n",
       "</style>\n",
       "<table border=\"1\" class=\"dataframe\">\n",
       "  <thead>\n",
       "    <tr style=\"text-align: right;\">\n",
       "      <th></th>\n",
       "      <th>molecule_chembl_id</th>\n",
       "      <th>canonical_smiles</th>\n",
       "      <th>standard_value</th>\n",
       "    </tr>\n",
       "  </thead>\n",
       "  <tbody>\n",
       "    <tr>\n",
       "      <th>0</th>\n",
       "      <td>CHEMBL1076884</td>\n",
       "      <td>O=C(C1CCC1)N1CCN(C(c2ccccc2)c2ccc(Cl)cc2Cl)CC1</td>\n",
       "      <td>10000.0</td>\n",
       "    </tr>\n",
       "    <tr>\n",
       "      <th>1</th>\n",
       "      <td>CHEMBL1082305</td>\n",
       "      <td>CC1(C)CC(C(N)=O)c2cc(-c3ccc(Cl)cc3)c(-c3ccc(Cl...</td>\n",
       "      <td>2480.0</td>\n",
       "    </tr>\n",
       "    <tr>\n",
       "      <th>2</th>\n",
       "      <td>CHEMBL1082321</td>\n",
       "      <td>CC(C)(CO)NC(=O)C1CC(C)(C)Oc2nc(-c3ccc(Cl)cc3Cl...</td>\n",
       "      <td>7450.0</td>\n",
       "    </tr>\n",
       "    <tr>\n",
       "      <th>3</th>\n",
       "      <td>CHEMBL1082330</td>\n",
       "      <td>CN1c2nc(-c3ccc(Cl)cc3Cl)c(-c3ccc(Cl)cc3)cc2C(C...</td>\n",
       "      <td>3390.0</td>\n",
       "    </tr>\n",
       "    <tr>\n",
       "      <th>4</th>\n",
       "      <td>CHEMBL1082650</td>\n",
       "      <td>C[C@@H](O)NC(=O)C1CC(C)(C)N(C)c2nc(-c3ccc(Cl)c...</td>\n",
       "      <td>2330.0</td>\n",
       "    </tr>\n",
       "  </tbody>\n",
       "</table>\n",
       "</div>"
      ],
      "text/plain": [
       "  molecule_chembl_id                                   canonical_smiles  \\\n",
       "0      CHEMBL1076884     O=C(C1CCC1)N1CCN(C(c2ccccc2)c2ccc(Cl)cc2Cl)CC1   \n",
       "1      CHEMBL1082305  CC1(C)CC(C(N)=O)c2cc(-c3ccc(Cl)cc3)c(-c3ccc(Cl...   \n",
       "2      CHEMBL1082321  CC(C)(CO)NC(=O)C1CC(C)(C)Oc2nc(-c3ccc(Cl)cc3Cl...   \n",
       "3      CHEMBL1082330  CN1c2nc(-c3ccc(Cl)cc3Cl)c(-c3ccc(Cl)cc3)cc2C(C...   \n",
       "4      CHEMBL1082650  C[C@@H](O)NC(=O)C1CC(C)(C)N(C)c2nc(-c3ccc(Cl)c...   \n",
       "\n",
       "   standard_value  \n",
       "0         10000.0  \n",
       "1          2480.0  \n",
       "2          7450.0  \n",
       "3          3390.0  \n",
       "4          2330.0  "
      ]
     },
     "execution_count": 62,
     "metadata": {},
     "output_type": "execute_result"
    }
   ],
   "source": [
    "df_trabalho.head(5)"
   ]
  },
  {
   "cell_type": "markdown",
   "id": "f0daba20",
   "metadata": {},
   "source": [
    "<h1 style=\"text-align: left;\"><span style=\"color: #7BB598;\"><strong>3. Descritores Lipinski</strong></span></h1>\n",
    "<p>&nbsp;</p>\n",
    "<p style=\"text-align: justify;\">A regra dos cinco de Lipinski diz que uma mol&eacute;cula ser&aacute; considerada um 'bom f&aacute;rmaco', do ponto de vista da permeabilidade e solubilidade, se apresentar as seguintes características:</p>\n",
    "<ol>\n",
    "<li style=\"text-align: justify;\">log P menor ou igual a 5</li>\n",
    "<li style=\"text-align: justify;\">massa molecular menor ou igual a 500</li>\n",
    "<li style=\"text-align: justify;\">aceptores de liga&ccedil;&atilde;o de hidrog&ecirc;nio menor ou igual a 10</li>\n",
    "<li style=\"text-align: justify;\">doadores de liga&ccedil;&atilde;o de hidrog&ecirc;nio menor ou igual a 5.</li>\n",
    "</ol>\n",
    "<p>&nbsp;</p>"
   ]
  },
  {
   "cell_type": "markdown",
   "id": "1c19a4ab",
   "metadata": {},
   "source": [
    "<h2 style=\"text-align: left;\"><span style=\"color: #7BB598;\"><strong>3.1. Gerando descritores</strong></span></h2>"
   ]
  },
  {
   "cell_type": "code",
   "execution_count": 63,
   "id": "04009e74",
   "metadata": {},
   "outputs": [],
   "source": [
    "# Array que irá armazenar os descritores\n",
    "descritores = np.arange(1, 1)\n",
    "\n",
    "# indica que a primeira entrada\n",
    "primeiro = True\n",
    "\n",
    "#  Gerando descritores\n",
    "for smile in df_trabalho['canonical_smiles']:\n",
    "    # gerando molécula\n",
    "    mol = Chem.MolFromSmiles(smile)\n",
    "    \n",
    "    # calculando descritores\n",
    "    descr_MolLogP = Descriptors.MolLogP(mol)\n",
    "    descr_MolWt = Descriptors.MolWt(mol)\n",
    "    descr_AcepH = Descriptors.NOCount(mol)\n",
    "    descr_DoadH = Descriptors.NHOHCount(mol)   \n",
    "    \n",
    "    # linha de descritores\n",
    "    linha = np.array([descr_MolWt, \n",
    "                      descr_MolLogP, \n",
    "                      descr_AcepH,\n",
    "                      descr_DoadH])\n",
    "    \n",
    "    if primeiro:\n",
    "        descritores = linha\n",
    "        primeiro = False\n",
    "    else:\n",
    "        descritores = np.vstack([descritores, linha])\n",
    "\n",
    "# Criando um dataframe para os descritores\n",
    "colunas = [\"massa_molecular\", \"logp\", \"aceptores_lig_h\", \"doadores_lig_h\"]\n",
    "df_descritores = pd.DataFrame(data = descritores, columns = colunas)"
   ]
  },
  {
   "cell_type": "markdown",
   "id": "dd22df5d",
   "metadata": {},
   "source": [
    "<h2 style=\"text-align: left;\"><span style=\"color: #7BB598;\"><strong>3.2. Combinando os dados</strong></span></h2>"
   ]
  },
  {
   "cell_type": "code",
   "execution_count": 64,
   "id": "888fb4cb",
   "metadata": {
    "scrolled": false
   },
   "outputs": [],
   "source": [
    "existe = os.path.isfile('resultado.csv')\n",
    "if existe:\n",
    "    df_resultado = pd.read_csv('resultado.csv')\n",
    "else:\n",
    "    df_resultado = pd.concat([df_trabalho, df_descritores], axis = 1)\n",
    "    df_resultado.head(8)\n",
    "\n",
    "    # Salvando resultado\n",
    "    df_resultado.to_csv('resultado.csv', index=False, float_format='%.6f', encoding='utf-8')"
   ]
  },
  {
   "cell_type": "code",
   "execution_count": 65,
   "id": "9260035d",
   "metadata": {},
   "outputs": [
    {
     "data": {
      "text/plain": [
       "(2307, 7)"
      ]
     },
     "execution_count": 65,
     "metadata": {},
     "output_type": "execute_result"
    }
   ],
   "source": [
    "df_resultado.shape"
   ]
  },
  {
   "cell_type": "markdown",
   "id": "c40b9425",
   "metadata": {},
   "source": [
    "<h1 style=\"text-align: left;\"><span style=\"color: #7BB598;\"><strong>4. Estatística</strong></span></h1>\n",
    "<p>&nbsp;</p>"
   ]
  },
  {
   "cell_type": "code",
   "execution_count": 66,
   "id": "9371db24",
   "metadata": {},
   "outputs": [],
   "source": [
    "# Excluindo linha cujo valor de massa molecular iria distorcer a média\n",
    "try:\n",
    "    df_resultado.drop(index = 920, axis = 0, inplace = True)\n",
    "except Exception as exc:\n",
    "    print(\"Erro: {0}\".format(exc))"
   ]
  },
  {
   "cell_type": "markdown",
   "id": "8274c2fa",
   "metadata": {},
   "source": [
    "<h2 style=\"text-align: left;\"><span style=\"color: #7BB598;\"><strong>4.1. Medidas Populacionais</strong></span></h2>"
   ]
  },
  {
   "cell_type": "code",
   "execution_count": 67,
   "id": "74d8620a",
   "metadata": {},
   "outputs": [
    {
     "name": "stdout",
     "output_type": "stream",
     "text": [
      "Estatística Populacional\n",
      " + Mediana.......: 435.24\n",
      " + Média.........: 438.43\n",
      " + Variância.....: 6472.86\n",
      " + Desvio padrão.: 80.45\n"
     ]
    }
   ],
   "source": [
    "# Array com os valores da massa molecular\n",
    "massa_atomica = np.array(df_resultado[\"massa_molecular\"])\n",
    "\n",
    "# Ordena os dados\n",
    "massa_atomica.sort()\n",
    "\n",
    "# Mediana\n",
    "mediana = np.median(massa_atomica)\n",
    "\n",
    "# Média\n",
    "media = np.mean(massa_atomica)\n",
    "\n",
    "# Variância\n",
    "variancia = np.var(massa_atomica)\n",
    "\n",
    "# Desvio Padrão\n",
    "desvio_padrao = np.std(massa_atomica)\n",
    "\n",
    "print(\"Estatística Populacional\")\n",
    "print(\" + Mediana.......: {0:0.2f}\".format(mediana))\n",
    "print(\" + Média.........: {0:0.2f}\".format(media))\n",
    "print(\" + Variância.....: {0:0.2f}\".format(variancia))\n",
    "print(\" + Desvio padrão.: {0:0.2f}\".format(desvio_padrao))"
   ]
  },
  {
   "cell_type": "markdown",
   "id": "e97d3860",
   "metadata": {},
   "source": [
    "<h1 style=\"text-align: left;\"><span style=\"color: #7BB598;\"><strong>5. Tabela de Classes</strong></span></h1>\n",
    "<p>&nbsp;</p>"
   ]
  },
  {
   "cell_type": "markdown",
   "id": "cd5d5855",
   "metadata": {},
   "source": [
    "<h2 style=\"text-align: left;\"><span style=\"color: #7BB598;\"><strong>5.1. Classes e valores mínimo e máximo</strong></span></h2>"
   ]
  },
  {
   "cell_type": "code",
   "execution_count": 68,
   "id": "d5e92099",
   "metadata": {},
   "outputs": [],
   "source": [
    "# Número de elementos\n",
    "n  = df_resultado.shape[0]\n",
    "\n",
    "# Valores máximo, minimo e sua diferença\n",
    "vlr_massa_maximo = df_resultado['massa_molecular'].max()\n",
    "vlr_massa_minimo = df_resultado['massa_molecular'].min()\n",
    "dif_max_min = vlr_massa_maximo - vlr_massa_minimo\n",
    "\n",
    "# numero de classes\n",
    "k = int(np.around((1 + (3.3 * np.log(n))), 0))\n",
    "\n",
    "# Amplitude das classes\n",
    "h = np.around((dif_max_min / k), 3)"
   ]
  },
  {
   "cell_type": "code",
   "execution_count": 69,
   "id": "3c28c21d",
   "metadata": {},
   "outputs": [],
   "source": [
    "limites = []\n",
    "minimo = np.around(vlr_massa_minimo, 3)\n",
    "for i in range(0, k):\n",
    "    maximo = np.around((minimo + h), 3)\n",
    "    \n",
    "    # ponto médio\n",
    "    ponto_medio = np.around(((maximo + minimo) / 2), 3)\n",
    "    \n",
    "    limites.append([minimo, maximo, ponto_medio])\n",
    "    \n",
    "    minimo = maximo\n",
    "\n",
    "df_classes = pd.DataFrame(limites, columns=['Limite Inferior', 'Limite Superior', 'Ponto Médio'])"
   ]
  },
  {
   "cell_type": "markdown",
   "id": "58199a44",
   "metadata": {},
   "source": [
    "<h2 style=\"text-align: left;\"><span style=\"color: #7BB598;\"><strong>5.2. Frequência Absoluta</strong></span></h2>"
   ]
  },
  {
   "cell_type": "code",
   "execution_count": 70,
   "id": "7bdac60c",
   "metadata": {},
   "outputs": [],
   "source": [
    "# Calculando frequências\n",
    "frequencias = []\n",
    "for limite in limites:\n",
    "    qtde = df_resultado[(df_resultado[\"massa_molecular\"] >= limite[0]) & \n",
    "                        (df_resultado[\"massa_molecular\"] < limite[1])]['massa_molecular'].count()\n",
    "    frequencias.append(qtde)\n",
    "\n",
    "# Adicionando coluna de frequência absoluta\n",
    "pos_coluna = len(df_classes.columns)\n",
    "df_classes.insert(pos_coluna, 'Frequência Absoluta', frequencias, True)\n",
    "\n",
    "# Excluíndo aquelas linhas cuja frequencia é zero, que implica em dizer\n",
    "# todas as linhas cujo valor máximo é maior que 750,794\n",
    "#df_classes.drop(df_classes.index[df_classes['Frequência Absoluta'] == 0], inplace = True, axis = 0)"
   ]
  },
  {
   "cell_type": "markdown",
   "id": "7bfef19c",
   "metadata": {},
   "source": [
    "<h2 style=\"text-align: left;\"><span style=\"color: #7BB598;\"><strong>5.3. Frequência Absoluta Relativa</strong></span></h2>"
   ]
  },
  {
   "cell_type": "code",
   "execution_count": 71,
   "id": "925e2531",
   "metadata": {},
   "outputs": [],
   "source": [
    "total = sum(frequencias)\n",
    "freq_abs_rel = []\n",
    "for freq in frequencias:\n",
    "    perc = np.around((freq / total), 4)\n",
    "    freq_abs_rel.append(perc)\n",
    "\n",
    "pos_coluna = len(df_classes.columns)\n",
    "df_classes.insert(pos_coluna, 'Frequência Absoluta Relativa', freq_abs_rel, True)"
   ]
  },
  {
   "cell_type": "markdown",
   "id": "ef38ab52",
   "metadata": {},
   "source": [
    "<h2 style=\"text-align: left;\"><span style=\"color: #7BB598;\"><strong>5.4. Frequência Absoluta Acumulada</strong></span></h2>"
   ]
  },
  {
   "cell_type": "code",
   "execution_count": 72,
   "id": "08e6eff5",
   "metadata": {},
   "outputs": [],
   "source": [
    "freq_abs_acumulada = []\n",
    "acumulado = 0\n",
    "for freq in frequencias:\n",
    "    acumulado = acumulado + freq\n",
    "    freq_abs_acumulada.append(acumulado)\n",
    "\n",
    "# Adicionando coluna de frequência absoluta acumulada\n",
    "pos_coluna = len(df_classes.columns)\n",
    "df_classes.insert(pos_coluna, 'Frequência Absoluta Acumulada', freq_abs_acumulada, True)"
   ]
  },
  {
   "cell_type": "code",
   "execution_count": 73,
   "id": "6015b398",
   "metadata": {
    "scrolled": true
   },
   "outputs": [],
   "source": [
    "# Gerando arquivo csv \n",
    "df_classes.to_csv('agrupamento_massa_atomica.csv', encoding='utf-8', index=False, sep=';', decimal=\",\", float_format='%.3f')"
   ]
  },
  {
   "cell_type": "markdown",
   "id": "73ac8bec",
   "metadata": {},
   "source": [
    "<h2 style=\"text-align: left;\"><span style=\"color: #7BB598;\"><strong>6. Histograma da Massa Molecular</strong></span></h2>"
   ]
  },
  {
   "cell_type": "code",
   "execution_count": 74,
   "id": "4bfe2f21",
   "metadata": {
    "scrolled": true
   },
   "outputs": [
    {
     "data": {
      "image/png": "[encoded data removed]",
      "text/plain": [
       "<Figure size 800x500 with 1 Axes>"
      ]
     },
     "metadata": {},
     "output_type": "display_data"
    }
   ],
   "source": [
    "fig, ax = plt.subplots(1, 1, figsize=(8, 5))\n",
    "\n",
    "# Dados\n",
    "dados = df_resultado\n",
    "\n",
    "# Histograma\n",
    "sns.histplot(data = dados, x = 'massa_molecular', \n",
    "             linewidth = 1, # tamanho da borda de cada barra do gráfico\n",
    "             edgecolor = '0', # cor da borda\n",
    "             kde = False,\n",
    "             bins = 20)\n",
    "\n",
    "# Spines -> as linhas dos eixos\n",
    "for axis in ['bottom', 'left', 'top', 'right']:\n",
    "    ax.spines[axis].set_linewidth(2.5)\n",
    "    ax.spines[axis].set_color('0.2')\n",
    "\n",
    "# Ticks\n",
    "ax.xaxis.set_ticks_position('bottom')\n",
    "ax.yaxis.set_ticks_position('left')\n",
    "\n",
    "# Configurando ticks para os valores\n",
    "# Tick -> linha nos pontos dos eixos\n",
    "ax.tick_params(which = 'major', length = 7, \n",
    "              grid_alpha = 0.5,\n",
    "              width = 1.5)\n",
    "\n",
    "# definição geral dos ticks do eixo y\n",
    "plt.yticks(size = 10, weight = 'bold', color = '0.2')\n",
    "\n",
    "# Alterando o texto dos eixos\n",
    "ax.set_xlabel('Massa Molecular', fontsize = 18, \n",
    "             weight = 'bold', color = '0.2', labelpad = 20)\n",
    "ax.set_ylabel('Frequência', \n",
    "             fontsize = 18, weight = 'bold', \n",
    "             color = '0.2', labelpad = 20)\n",
    "\n",
    "# Título do gráfico\n",
    "ax.set_title(\"Distribuição da Massa Molecular\", \n",
    "             fontweight = 'bold', \n",
    "             fontsize = 16, pad = 29)\n",
    "\n",
    "# Salvando gráfico\n",
    "plt.savefig('histograma_massa_molecular.png', bbox_inches = 'tight', dpi =250, facecolor = ax.get_facecolor())\n",
    "\n",
    "# Exibindo o gráfico\n",
    "plt.show()"
   ]
  },
  {
   "cell_type": "markdown",
   "id": "062a5d5b",
   "metadata": {},
   "source": [
    "<h2 style=\"text-align: left;\"><span style=\"color: #7BB598;\"><strong>7. Teorema Central do Limite</strong></span></h2>"
   ]
  },
  {
   "cell_type": "code",
   "execution_count": 75,
   "id": "7e8c89cb",
   "metadata": {},
   "outputs": [
    {
     "data": {
      "image/png": "[encoded data removed]",
      "text/plain": [
       "<Figure size 640x480 with 1 Axes>"
      ]
     },
     "metadata": {},
     "output_type": "display_data"
    }
   ],
   "source": [
    "# Array com os valores da massa molecular\n",
    "massa_atomica = np.array(df_resultado[\"massa_molecular\"])\n",
    "\n",
    "# Tamanho dos dados\n",
    "n = df_resultado.shape[0]\n",
    "\n",
    "# Tamanho da amostra\n",
    "tam_amostra = 300\n",
    "\n",
    "# Número de amostras\n",
    "num_amostras = 1000\n",
    "\n",
    "amostras = np.empty(shape=[0, tam_amostra])\n",
    "\n",
    "for i in range(0, num_amostras):\n",
    "    amostra = []\n",
    "    for j in range(0, tam_amostra):\n",
    "        posicao = np.random.randint(0, n)\n",
    "        amostra.append(massa_atomica[posicao])\n",
    "    amostras = np.append(amostras, [amostra], axis=0)\n",
    "    \n",
    "# Médias amostrais\n",
    "medias_amostrais = []\n",
    "for amostra in amostras:\n",
    "    medias_amostrais.append( np.around( np.mean(amostra), 2))\n",
    "\n",
    "sns.histplot(x = medias_amostrais)\n",
    "plt.show()"
   ]
  },
  {
   "cell_type": "markdown",
   "id": "f2d66b67",
   "metadata": {},
   "source": [
    "<h2 style=\"text-align: left;\"><span style=\"color: #7BB598;\"><strong>8. Intervalo de Confiança (para a média populacional)</strong></span></h2>"
   ]
  },
  {
   "cell_type": "markdown",
   "id": "5d5c251a",
   "metadata": {},
   "source": [
    "<h2 style=\"text-align: left;\"><span style=\"color: #7BB598;\"><strong>8.1. Amostra com 50 itens</strong></span></h2>"
   ]
  },
  {
   "cell_type": "code",
   "execution_count": 76,
   "id": "bdc5e260",
   "metadata": {},
   "outputs": [],
   "source": [
    "# Tamanho dos dados\n",
    "n = df_resultado.shape[0]\n",
    "\n",
    "# Array com os valores da massa molecular\n",
    "massa_molecular = np.array(df_resultado[\"massa_molecular\"])\n",
    "\n",
    "# Tamanho da amostra a ser coletada\n",
    "n_IC = 50\n",
    "\n",
    "# Amostra\n",
    "amostra_IC = []\n",
    "\n",
    "for j in range(0, tam_amostra):\n",
    "    posicao = np.random.randint(0, n)\n",
    "    amostra_IC.append(massa_molecular[posicao])\n",
    "\n",
    "\n",
    "df_amostra50itens = pd.DataFrame(\n",
    "    amostra_IC, \n",
    "    columns = ['Massa Molecular']\n",
    ")\n",
    "\n",
    "# Salvando tabela no formato excel\n",
    "df_amostra50itens.to_excel('amostra50itens.xlsx', \n",
    "             index=True, header=True, index_label = 'Índice', \n",
    "             sheet_name = 'amostra50itens', \n",
    "             float_format=\"%.4f\")\n"
   ]
  },
  {
   "cell_type": "markdown",
   "id": "7d8107de",
   "metadata": {},
   "source": [
    "<h3 style=\"text-align: left;\"><span style=\"color: #7BB598;\"><strong>8.1.1. Média, variância e desvio padrão da amostra</strong></span></h3>"
   ]
  },
  {
   "cell_type": "code",
   "execution_count": 77,
   "id": "bf50967e",
   "metadata": {},
   "outputs": [
    {
     "name": "stdout",
     "output_type": "stream",
     "text": [
      "Média dos valores de massa atômica da amostra: 432.186\n",
      "Variância da amostra.........................: 5296.612\n",
      "Desvio Padrão da amostra.....................: 72.778\n"
     ]
    }
   ],
   "source": [
    "media_amostra_IC = np.mean(amostra_IC)\n",
    "desvio_padrao_amostra_IC = np.std(amostra_IC)\n",
    "variancia_amostra_IC = np.var(amostra_IC)\n",
    "print(\"Média dos valores de massa atômica da amostra: {0:0.3f}\".format(media_amostra_IC))\n",
    "print(\"Variância da amostra.........................: {0:0.3f}\".format(variancia_amostra_IC))\n",
    "print(\"Desvio Padrão da amostra.....................: {0:0.3f}\".format(desvio_padrao_amostra_IC))\n"
   ]
  },
  {
   "cell_type": "markdown",
   "id": "d43f8c94",
   "metadata": {},
   "source": [
    "<h3 style=\"text-align: left;\"><span style=\"color: #7BB598;\"><strong>8.1.2. Intervalo de Confiança</strong></span></h3>"
   ]
  },
  {
   "cell_type": "code",
   "execution_count": 78,
   "id": "e03feb5a",
   "metadata": {},
   "outputs": [],
   "source": [
    "nivel_confianca = 0.95\n",
    "grau_liberdade = n_IC - 1\n",
    "alfa = 1 - nivel_confianca\n",
    "alfa_sobre_dois = np.around((alfa / 2), 5)\n",
    "valor_t = 2.009\n",
    "erro = np.around( (valor_t * ((desvio_padrao_amostra_IC) / np.sqrt(n_IC))), 2)"
   ]
  },
  {
   "cell_type": "code",
   "execution_count": 79,
   "id": "cc7c4f6e",
   "metadata": {},
   "outputs": [
    {
     "name": "stdout",
     "output_type": "stream",
     "text": [
      "Nível de confiança.: 95.00%\n",
      "Grau de liberdade..: 49\n",
      "Alfa (ɑ)...........: 0.05\n",
      "Alfa sobre 2.......: 0.025\n",
      "Valor t............: 2.01\n",
      "Erro...............: 20.68\n",
      "\n",
      "P(411.51 ≤ μ ≤ 452.87) = 95.0%\n"
     ]
    }
   ],
   "source": [
    "print(\"Nível de confiança.: {0:0.2f}%\".format(nivel_confianca*100))\n",
    "print(\"Grau de liberdade..: {0}\".format(grau_liberdade))\n",
    "print(\"Alfa (\\u0251)...........: {0:0.2f}\".format(alfa))\n",
    "print(\"Alfa sobre 2.......: {0:0.3f}\".format(alfa_sobre_dois))\n",
    "print(\"Valor t............: {0:0.2f}\".format(valor_t))\n",
    "print(\"Erro...............: {0:0.2f}\".format(erro))\n",
    "print(\"\")\n",
    "print(\"P({0} \\u2264 \\u03BC \\u2264 {1}) = {2}%\".format(np.around((media_amostra_IC - erro), 2), \n",
    "                                             np.around((media_amostra_IC + erro), 2), \n",
    "                                             (nivel_confianca*100)))"
   ]
  },
  {
   "cell_type": "markdown",
   "id": "0485da16",
   "metadata": {},
   "source": [
    "<h2 style=\"text-align: left;\"><span style=\"color: #7BB598;\"><strong>8.2. Coletando amostra com 100 itens</strong></span></h2>"
   ]
  },
  {
   "cell_type": "code",
   "execution_count": 80,
   "id": "ae60983c",
   "metadata": {},
   "outputs": [],
   "source": [
    "# Tamanho dos dados\n",
    "n = df_resultado.shape[0]\n",
    "\n",
    "# Array com os valores da massa molecular\n",
    "massa_molecular = np.array(df_resultado[\"massa_molecular\"])\n",
    "\n",
    "# Tamanho da amostra a ser coletada\n",
    "n_IC = 100\n",
    "\n",
    "# Amostra\n",
    "amostra_IC = []\n",
    "\n",
    "for j in range(0, tam_amostra):\n",
    "    posicao = np.random.randint(0, n)\n",
    "    amostra_IC.append(massa_molecular[posicao])\n",
    "\n",
    "df_amostra100itens = pd.DataFrame(\n",
    "    amostra_IC, \n",
    "    columns = ['Massa Molecular']\n",
    ")\n",
    "\n",
    "# Salvando tabela no formato excel\n",
    "df_amostra100itens.to_excel('amostra100itens.xlsx', \n",
    "             index=True, header=True, index_label = 'Índice', \n",
    "             sheet_name = 'amostra100itens', \n",
    "             float_format=\"%.4f\")"
   ]
  },
  {
   "cell_type": "markdown",
   "id": "94f780f1",
   "metadata": {},
   "source": [
    "<h3 style=\"text-align: left;\"><span style=\"color: #7BB598;\"><strong>8.2.1. Média, variância e desvio padrão da amostra</strong></span></h3>"
   ]
  },
  {
   "cell_type": "code",
   "execution_count": 81,
   "id": "a83b9dfe",
   "metadata": {},
   "outputs": [
    {
     "name": "stdout",
     "output_type": "stream",
     "text": [
      "Média dos valores de massa atômica da amostra: 434.297\n",
      "Variância da amostra.........................: 7668.052\n",
      "Desvio Padrão da amostra.....................: 87.567\n"
     ]
    }
   ],
   "source": [
    "media_amostra_IC = np.mean(amostra_IC)\n",
    "desvio_padrao_amostra_IC = np.std(amostra_IC)\n",
    "variancia_amostra_IC = np.var(amostra_IC)\n",
    "print(\"Média dos valores de massa atômica da amostra: {0:0.3f}\".format(media_amostra_IC))\n",
    "print(\"Variância da amostra.........................: {0:0.3f}\".format(variancia_amostra_IC))\n",
    "print(\"Desvio Padrão da amostra.....................: {0:0.3f}\".format(desvio_padrao_amostra_IC))\n"
   ]
  },
  {
   "cell_type": "markdown",
   "id": "8f17edd1",
   "metadata": {},
   "source": [
    "<h3 style=\"text-align: left;\"><span style=\"color: #7BB598;\"><strong>8.2.2. Intervalo de Confiança</strong></span></h3>\n",
    "<br><p style=\"text-align: justify;\">Considerando desconhecer o valor do desvio padrão populacional.</p>"
   ]
  },
  {
   "cell_type": "code",
   "execution_count": 82,
   "id": "dfb29281",
   "metadata": {},
   "outputs": [],
   "source": [
    "nivel_confianca = 0.95\n",
    "grau_liberdade = n_IC - 1\n",
    "alfa = 1 - nivel_confianca\n",
    "alfa_sobre_dois = np.around((alfa / 2), 3)\n",
    "valor_t = 1.960\n",
    "erro = np.around( (valor_t * ((desvio_padrao_amostra_IC) / np.sqrt(n_IC))), 2)"
   ]
  },
  {
   "cell_type": "code",
   "execution_count": 83,
   "id": "41e9d241",
   "metadata": {},
   "outputs": [
    {
     "name": "stdout",
     "output_type": "stream",
     "text": [
      "Nível de confiança.: 95.00%\n",
      "Grau de liberdade..: 99\n",
      "Alfa...............: 0.05\n",
      "Alfa sobre 2.......: 0.03\n",
      "Valor t............: 1.96\n",
      "Erro...............: 17.16\n",
      "\n",
      "P(417.14 ≤ μ ≤ 451.46) = 95.0%\n"
     ]
    }
   ],
   "source": [
    "print(\"Nível de confiança.: {0:0.2f}%\".format(nivel_confianca*100))\n",
    "print(\"Grau de liberdade..: {0}\".format(grau_liberdade))\n",
    "print(\"Alfa...............: {0:0.2f}\".format(alfa))\n",
    "print(\"Alfa sobre 2.......: {0:0.2f}\".format(alfa_sobre_dois))\n",
    "print(\"Valor t............: {0:0.2f}\".format(valor_t))\n",
    "print(\"Erro...............: {0:0.2f}\".format(erro))\n",
    "print(\"\")\n",
    "print(\"P({0} \\u2264 \\u03BC \\u2264 {1}) = {2}%\".format(np.around((media_amostra_IC - erro), 2), \n",
    "                                             np.around((media_amostra_IC + erro), 2), \n",
    "                                             (nivel_confianca*100)))"
   ]
  },
  {
   "cell_type": "markdown",
   "id": "ddf0a353",
   "metadata": {},
   "source": [
    "<h2 style=\"text-align: left;\"><span style=\"color: #7BB598;\"><strong>9. Teste de Hipótese</strong></span></h2>"
   ]
  },
  {
   "cell_type": "markdown",
   "id": "0c5575bc",
   "metadata": {},
   "source": [
    "<h2 style=\"text-align: left;\"><span style=\"color: #7BB598;\"><strong>9.1.  Afirmação</strong></span></h2>"
   ]
  },
  {
   "cell_type": "markdown",
   "id": "a22d9f62",
   "metadata": {},
   "source": [
    "<p><strong><span style=\"font-size:24px\"><span style=\"font-family:arial,helvetica,sans-serif\"><span style=\"color:#2e6c80\">Cerca de 45% das mol&eacute;culas tem massa molecular abaixo de 400.</span></span></span></strong></p>"
   ]
  },
  {
   "cell_type": "markdown",
   "id": "bfb9f2e0",
   "metadata": {},
   "source": [
    "<h2 style=\"text-align: left;\"><span style=\"color: #7BB598;\"><strong>9.2. Hipóteses</strong></span></h2>"
   ]
  },
  {
   "cell_type": "markdown",
   "id": "9aecdbc6",
   "metadata": {},
   "source": [
    "<p><strong><span style=\"font-size:24px\"><span style=\"font-family:arial,helvetica,sans-serif\"><span style=\"color:#2e6c80\">Afirma&ccedil;&atilde;o: p < 0,45 - Complemento: p >= 0,45</span></span></span></strong></p>\n",
    "\n",
    "<p><strong><span style=\"font-size:24px\"><span style=\"font-family:arial,helvetica,sans-serif\"><span style=\"color:#2e6c80\">H<sub>0</sub>: p = 0,45</span></span></span></strong></p>\n",
    "\n",
    "<p><strong><span style=\"font-size:24px\"><span style=\"font-family:arial,helvetica,sans-serif\"><span style=\"color:#2e6c80\">H<sub>1</sub>: p < 0,45 (teste unilateral à esquerda)</span></span></span></strong></p>\n"
   ]
  },
  {
   "cell_type": "code",
   "execution_count": 84,
   "id": "1fe091aa",
   "metadata": {},
   "outputs": [],
   "source": [
    "p = 0.45"
   ]
  },
  {
   "cell_type": "markdown",
   "id": "df07a435",
   "metadata": {},
   "source": [
    "<h2 style=\"text-align: left;\"><span style=\"color: #7BB598;\"><strong>9.3. Coletando Amostra</strong></span></h2>"
   ]
  },
  {
   "cell_type": "code",
   "execution_count": 85,
   "id": "94bfb457",
   "metadata": {},
   "outputs": [],
   "source": [
    "# Tamanho dos dados\n",
    "n = df_resultado.shape[0]\n",
    "\n",
    "# Array com os valores da massa molecular\n",
    "massa_molecular = np.array(df_resultado[\"massa_molecular\"])\n",
    "\n",
    "# Tamanho da amostra a ser coletada\n",
    "n_hip = 400\n",
    "\n",
    "# Amostra\n",
    "amostra_hip = []\n",
    "\n",
    "for j in range(0, n_hip):\n",
    "    posicao = np.random.randint(0, n)\n",
    "    amostra_hip.append(massa_molecular[posicao])\n",
    "    \n",
    "df_amostra_teste_hipotese = pd.DataFrame(\n",
    "    amostra_hip, \n",
    "    columns = ['Massa Molecular']\n",
    ")\n",
    "\n",
    "# Salvando tabela no formato excel\n",
    "df_amostra_teste_hipotese.to_excel('amostra_teste_hipotese.xlsx', \n",
    "             index=True, header=True, index_label = 'Índice', \n",
    "             sheet_name = 'amostra_teste_hipotese', \n",
    "             float_format=\"%.4f\")    "
   ]
  },
  {
   "cell_type": "markdown",
   "id": "52701acc",
   "metadata": {},
   "source": [
    "<h2 style=\"text-align: left;\"><span style=\"color: #7BB598;\"><strong>9.4. Proporção da Amostra</strong></span></h2>\n",
    "<p>Agora, em rela&ccedil;&atilde;o &agrave; amostra, verifica-se a propor&ccedil;&atilde;o de mol&eacute;culas que tem massa molecular abaixo de 400.<em></em></p>"
   ]
  },
  {
   "cell_type": "code",
   "execution_count": 86,
   "id": "4aaf3ea6",
   "metadata": {},
   "outputs": [
    {
     "name": "stdout",
     "output_type": "stream",
     "text": [
      "Proporção da amostra (p̂).: 0.31\n"
     ]
    }
   ],
   "source": [
    "qtde = 0\n",
    "for vlr_massa in amostra_hip:\n",
    "    if vlr_massa < 400:\n",
    "        qtde += 1\n",
    "\n",
    "p_chapeu = np.around((qtde / n_hip), 2)\n",
    "print(\"Proporção da amostra (p\\u0302).: {0}\".format(p_chapeu))"
   ]
  },
  {
   "cell_type": "markdown",
   "id": "e5b8e0b5",
   "metadata": {},
   "source": [
    "<h2 style=\"text-align: left;\"><span style=\"color: #7BB598;\"><strong>9.5. Nível de significância, grau de liberdade</strong></span></h2>"
   ]
  },
  {
   "cell_type": "code",
   "execution_count": 87,
   "id": "8e6357b2",
   "metadata": {},
   "outputs": [
    {
     "name": "stdout",
     "output_type": "stream",
     "text": [
      "Nível de significância (α): 0.05\n",
      "Alpha sobre 2: 0.025\n",
      "Grau de liberdade: 399\n"
     ]
    }
   ],
   "source": [
    "nivel_signif = 0.05\n",
    "alfa_sobre_dois = np.around((alfa / 2), 3)\n",
    "\n",
    "print(\"Nível de significância (\\u03b1): {0}\".format(nivel_signif))\n",
    "print(\"Alpha sobre 2: {0}\".format(alfa_sobre_dois))\n",
    "print(\"Grau de liberdade: {0}\".format(n_hip-1))"
   ]
  },
  {
   "cell_type": "markdown",
   "id": "3df78aed",
   "metadata": {},
   "source": [
    "<h2 style=\"text-align: left;\"><span style=\"color: #7BB598;\"><strong>9.6. Estatística de Teste</strong></span></h2>"
   ]
  },
  {
   "cell_type": "code",
   "execution_count": 88,
   "id": "bc54984d",
   "metadata": {},
   "outputs": [
    {
     "name": "stdout",
     "output_type": "stream",
     "text": [
      "Valor de q: 0.55\n",
      "Estatística de teste: -5.628\n"
     ]
    }
   ],
   "source": [
    "q = 1 - p\n",
    "z = (p_chapeu - p) / (np.sqrt((p * q) / n_hip))\n",
    "z = np.around(z, 3)\n",
    "\n",
    "print(\"Valor de q: {0}\".format(q))\n",
    "print(\"Estatística de teste: {0}\".format(z))"
   ]
  },
  {
   "cell_type": "markdown",
   "id": "f9da479b",
   "metadata": {},
   "source": [
    "<h2 style=\"text-align: left;\"><span style=\"color: #7BB598;\"><strong>9.7. Valor Crítico</strong></span></h2>\n",
    "<br>\n",
    "O valor crítico deve ser buscado na Tabela t-student."
   ]
  },
  {
   "cell_type": "code",
   "execution_count": 89,
   "id": "73a4bb69",
   "metadata": {},
   "outputs": [
    {
     "name": "stdout",
     "output_type": "stream",
     "text": [
      "Valor crítico: 1.646\n",
      "Valor crítico: 1.649\n"
     ]
    }
   ],
   "source": [
    "valor_critico = 1.64576\n",
    "print(\"Valor crítico: {0:0.3f}\".format(valor_critico))\n",
    "\n",
    "from scipy.stats import t as t_student\n",
    "print(\"Valor crítico: {0:0.3f}\".format(t_student.ppf(1-0.05, 399)))\n"
   ]
  },
  {
   "cell_type": "markdown",
   "id": "afa73a5f",
   "metadata": {},
   "source": [
    "<h2 style=\"text-align: left;\"><span style=\"color: #7BB598;\"><strong>9.8. Resultado</strong></span></h2>\n",
    "<br>"
   ]
  },
  {
   "cell_type": "markdown",
   "id": "3fec4967",
   "metadata": {},
   "source": [
    "<p><strong><span style=\"font-size:24px\"><span style=\"font-family:arial,helvetica,sans-serif\"><span style=\"color:#2e6c80\">Conclus&atilde;o: como o valor da estat&iacute;stica de teste cai dentro da regi&atilde;o cr&iacute;tica, rejeita-se H<sub>0</sub>, ou seja, rejeita-se que a propor&ccedil;&atilde;o de mol&eacute;culas com massa molecular menor que 400 seja igual a 0,45.</span></span></span></strong></p>\n",
    "\n",
    "<p><strong><span style=\"font-size:24px\"><span style=\"font-family:arial,helvetica,sans-serif\"><span style=\"color:#2e6c80\">Nestas condi&ccedil;&otilde;es, podemos confirmar a afirma&ccedil;&atilde;o de que menos 45% da mol&eacute;culas tem massa molecular menor que 400.</span></span></span></strong></p>\n"
   ]
  }
 ],
 "metadata": {
  "kernelspec": {
   "display_name": "Python 3 (ipykernel)",
   "language": "python",
   "name": "python3"
  },
  "language_info": {
   "codemirror_mode": {
    "name": "ipython",
    "version": 3
   },
   "file_extension": ".py",
   "mimetype": "text/x-python",
   "name": "python",
   "nbconvert_exporter": "python",
   "pygments_lexer": "ipython3",
   "version": "3.10.9"
  }
 },
 "nbformat": 4,
 "nbformat_minor": 5
}
